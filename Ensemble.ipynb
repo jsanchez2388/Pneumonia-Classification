{
 "cells": [
  {
   "cell_type": "code",
   "execution_count": 14,
   "metadata": {},
   "outputs": [],
   "source": [
    "import torch \n",
    "import numpy as np \n",
    "import matplotlib.pyplot as plt \n",
    "import timm  # timm (PyTorch Image Models) library for accessing pre-trained models and utilities for image classification\n",
    "import os  \n",
    "from tqdm.notebook import tqdm  # tqdm for displaying progress bars in Jupyter notebooks\n",
    "from torchvision import transforms as T, datasets\n",
    "from helper import view_classify, show_image, show_grid, accuracy # Importing custom helper functions for visualization and calculating accuracy"
   ]
  },
  {
   "cell_type": "code",
   "execution_count": 15,
   "metadata": {},
   "outputs": [],
   "source": [
    "device = torch.device(\"cuda\" if torch.cuda.is_available() else \"cpu\")"
   ]
  },
  {
   "cell_type": "code",
   "execution_count": 16,
   "metadata": {},
   "outputs": [],
   "source": [
    "from torch import nn \n",
    "import torch.nn.functional as F\n",
    "\n",
    "# Creating a pre-trained model from timm (PyTorch Image Models)\n",
    "model_efficientnet = timm.create_model('tf_efficientnet_b4_ns', pretrained=False)  # Load a pre-trained model specified in CFG\n",
    "\n",
    "# Customizing the classifier part of the model\n",
    "model_efficientnet.classifier = nn.Sequential(\n",
    "    nn.Linear(in_features=1792, out_features=625),  # First linear layer\n",
    "    nn.ReLU(),  # ReLU activation function\n",
    "    nn.Dropout(p=0.3),  # Dropout layer with a dropout probability of 0.3\n",
    "    nn.Linear(in_features=625, out_features=256),  # Second linear layer\n",
    "    nn.ReLU(),  # ReLU activation function\n",
    "    nn.Linear(in_features=256, out_features=2)  # Final linear layer with 2 outputs for binary classification\n",
    ")"
   ]
  },
  {
   "cell_type": "code",
   "execution_count": 17,
   "metadata": {},
   "outputs": [],
   "source": [
    "# Load DenseNet-201\n",
    "model_densenet = timm.create_model('densenet201', pretrained=False)\n",
    "# Adjust the classifier layer of DenseNet-201 according to your project\n",
    "model_densenet.classifier = nn.Sequential(\n",
    "    nn.Linear(1920, 625),\n",
    "    nn.ReLU(),\n",
    "    nn.Dropout(0.3),\n",
    "    nn.Linear(625, 256),\n",
    "    nn.ReLU(),\n",
    "    nn.Linear(256, 2)  # Assuming binary classification\n",
    ")"
   ]
  },
  {
   "cell_type": "code",
   "execution_count": 18,
   "metadata": {},
   "outputs": [],
   "source": [
    "# Creating a pre-trained model from timm (PyTorch Image Models)\n",
    "model_vgg = timm.create_model('vgg11', pretrained=False)  # Load a pre-trained model specified in CFG\n",
    "model_vgg.head.fc = nn.Linear(in_features=4096, out_features=2)"
   ]
  },
  {
   "cell_type": "code",
   "execution_count": 19,
   "metadata": {},
   "outputs": [
    {
     "data": {
      "text/plain": [
       "<All keys matched successfully>"
      ]
     },
     "execution_count": 19,
     "metadata": {},
     "output_type": "execute_result"
    }
   ],
   "source": [
    "# Load the trained weights\n",
    "model_efficientnet.load_state_dict(torch.load('PneumoniaModel.pth'))\n",
    "model_densenet.load_state_dict(torch.load('DenseNetPneumoniaModel.pth'))\n",
    "#model_vgg.load_state_dict(torch.load('VGG11PneumoniaModel.pth'))"
   ]
  },
  {
   "cell_type": "code",
   "execution_count": 20,
   "metadata": {},
   "outputs": [
    {
     "data": {
      "text/plain": [
       "VGG(\n",
       "  (features): Sequential(\n",
       "    (0): Conv2d(3, 64, kernel_size=(3, 3), stride=(1, 1), padding=(1, 1))\n",
       "    (1): ReLU(inplace=True)\n",
       "    (2): MaxPool2d(kernel_size=2, stride=2, padding=0, dilation=1, ceil_mode=False)\n",
       "    (3): Conv2d(64, 128, kernel_size=(3, 3), stride=(1, 1), padding=(1, 1))\n",
       "    (4): ReLU(inplace=True)\n",
       "    (5): MaxPool2d(kernel_size=2, stride=2, padding=0, dilation=1, ceil_mode=False)\n",
       "    (6): Conv2d(128, 256, kernel_size=(3, 3), stride=(1, 1), padding=(1, 1))\n",
       "    (7): ReLU(inplace=True)\n",
       "    (8): Conv2d(256, 256, kernel_size=(3, 3), stride=(1, 1), padding=(1, 1))\n",
       "    (9): ReLU(inplace=True)\n",
       "    (10): MaxPool2d(kernel_size=2, stride=2, padding=0, dilation=1, ceil_mode=False)\n",
       "    (11): Conv2d(256, 512, kernel_size=(3, 3), stride=(1, 1), padding=(1, 1))\n",
       "    (12): ReLU(inplace=True)\n",
       "    (13): Conv2d(512, 512, kernel_size=(3, 3), stride=(1, 1), padding=(1, 1))\n",
       "    (14): ReLU(inplace=True)\n",
       "    (15): MaxPool2d(kernel_size=2, stride=2, padding=0, dilation=1, ceil_mode=False)\n",
       "    (16): Conv2d(512, 512, kernel_size=(3, 3), stride=(1, 1), padding=(1, 1))\n",
       "    (17): ReLU(inplace=True)\n",
       "    (18): Conv2d(512, 512, kernel_size=(3, 3), stride=(1, 1), padding=(1, 1))\n",
       "    (19): ReLU(inplace=True)\n",
       "    (20): MaxPool2d(kernel_size=2, stride=2, padding=0, dilation=1, ceil_mode=False)\n",
       "  )\n",
       "  (pre_logits): ConvMlp(\n",
       "    (fc1): Conv2d(512, 4096, kernel_size=(7, 7), stride=(1, 1))\n",
       "    (act1): ReLU(inplace=True)\n",
       "    (drop): Dropout(p=0.0, inplace=False)\n",
       "    (fc2): Conv2d(4096, 4096, kernel_size=(1, 1), stride=(1, 1))\n",
       "    (act2): ReLU(inplace=True)\n",
       "  )\n",
       "  (head): ClassifierHead(\n",
       "    (global_pool): SelectAdaptivePool2d(pool_type=avg, flatten=Flatten(start_dim=1, end_dim=-1))\n",
       "    (drop): Dropout(p=0.0, inplace=False)\n",
       "    (fc): Linear(in_features=4096, out_features=2, bias=True)\n",
       "    (flatten): Identity()\n",
       "  )\n",
       ")"
      ]
     },
     "execution_count": 20,
     "metadata": {},
     "output_type": "execute_result"
    }
   ],
   "source": [
    "# Set both models to evaluation mode\n",
    "model_efficientnet.to(device).eval()\n",
    "model_densenet.to(device).eval()\n",
    "model_vgg.to(device).eval()"
   ]
  },
  {
   "cell_type": "code",
   "execution_count": 21,
   "metadata": {},
   "outputs": [],
   "source": [
    "# Define transformations for the test dataset\n",
    "test_transform = T.Compose([\n",
    "    T.Resize(size=(224, 224)),  # Resize images to the specified size\n",
    "    T.ToTensor(),  # Convert images to PyTorch tensors\n",
    "    T.Normalize([0.485, 0.456, 0.406], [0.229, 0.224, 0.225])  # Normalize\n",
    "])"
   ]
  },
  {
   "cell_type": "code",
   "execution_count": 22,
   "metadata": {},
   "outputs": [],
   "source": [
    "from torch.utils.data import DataLoader \n",
    "\n",
    "test_dataset = datasets.ImageFolder(root='./chest_xray_data/test', transform=test_transform)\n",
    "test_loader = DataLoader(test_dataset, batch_size=16, shuffle=False)  # Adjust batch_size as needed"
   ]
  },
  {
   "cell_type": "code",
   "execution_count": 23,
   "metadata": {},
   "outputs": [],
   "source": [
    "# Soft Voting\n",
    "def soft_voting_with_labels(model1, model2, model3, loader):\n",
    "    model1.to(device).eval()\n",
    "    model2.to(device).eval()\n",
    "    model3.to(device).eval()\n",
    "    all_predictions = []\n",
    "    all_labels = []\n",
    "\n",
    "    with torch.no_grad():\n",
    "        for images, labels in loader:\n",
    "            images = images.to(device)\n",
    "            outputs1 = torch.softmax(model1(images), dim=1)\n",
    "            outputs2 = torch.softmax(model2(images), dim=1)\n",
    "            outputs3 = torch.softmax(model3(images), dim=1)\n",
    "\n",
    "            avg_outputs = (outputs1 + outputs2 + outputs3) / 3\n",
    "            _, predicted_classes = torch.max(avg_outputs, 1)\n",
    "\n",
    "            all_predictions.extend(predicted_classes.cpu().numpy())\n",
    "            all_labels.extend(labels.numpy())\n",
    "\n",
    "    return all_predictions, all_labels\n"
   ]
  },
  {
   "cell_type": "code",
   "execution_count": 24,
   "metadata": {},
   "outputs": [],
   "source": [
    "# Get predictions\n",
    "predictions, true_labels = soft_voting_with_labels(model_efficientnet, model_densenet, model_vgg, test_loader)"
   ]
  },
  {
   "cell_type": "code",
   "execution_count": 25,
   "metadata": {},
   "outputs": [
    {
     "name": "stdout",
     "output_type": "stream",
     "text": [
      "Accuracy: 91.99%\n"
     ]
    }
   ],
   "source": [
    "accuracy = np.mean(np.array(predictions) == np.array(true_labels))\n",
    "print(f\"Accuracy: {accuracy * 100:.2f}%\")"
   ]
  },
  {
   "cell_type": "code",
   "execution_count": 26,
   "metadata": {},
   "outputs": [],
   "source": [
    "del model_vgg, model_densenet, model_efficientnet\n",
    "torch.cuda.empty_cache()  # Clear GPU cache"
   ]
  },
  {
   "cell_type": "code",
   "execution_count": null,
   "metadata": {},
   "outputs": [],
   "source": []
  }
 ],
 "metadata": {
  "kernelspec": {
   "display_name": ".venv",
   "language": "python",
   "name": "python3"
  },
  "language_info": {
   "codemirror_mode": {
    "name": "ipython",
    "version": 3
   },
   "file_extension": ".py",
   "mimetype": "text/x-python",
   "name": "python",
   "nbconvert_exporter": "python",
   "pygments_lexer": "ipython3",
   "version": "3.10.11"
  }
 },
 "nbformat": 4,
 "nbformat_minor": 2
}
